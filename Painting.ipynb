{
 "cells": [
  {
   "cell_type": "markdown",
   "id": "e76707c7",
   "metadata": {},
   "source": [
    "# Comparative Analysis of Color and Outline in Andy Warhol's \"Shot Marilyns\" Series"
   ]
  },
  {
   "cell_type": "code",
   "execution_count": null,
   "id": "043f3995",
   "metadata": {},
   "outputs": [],
   "source": [
    "import pandas as pd\n",
    "import numpy as np\n",
    "import matplotlib.pyplot as plt\n",
    "from glob import glob\n",
    "import skimage.io as skio\n",
    "from skimage.color import rgb2gray, rgba2rgb, hsv2rgb\n",
    "from tqdm import notebook as tqdm\n",
    "from skimage.transform import resize\n",
    "import os\n",
    "import gdown\n",
    "\n",
    "from tqdm.notebook import tqdm\n",
    "\n",
    "\n",
    "import plotly.express as px\n",
    "import plotly.graph_objects as go\n",
    "from plotly.subplots import make_subplots"
   ]
  },
  {
   "cell_type": "code",
   "execution_count": null,
   "id": "f4cf8dd7",
   "metadata": {},
   "outputs": [],
   "source": [
    "filepaths = glob('shot marilyns/*')\n",
    "\n",
    "# filepaths = glob('Shot Marilyn/*')\n",
    "\n",
    "print(filepaths)"
   ]
  },
  {
   "cell_type": "code",
   "execution_count": null,
   "id": "93cc33ab",
   "metadata": {},
   "outputs": [],
   "source": [
    "img_A = skio.imread(filepaths[0])\n",
    "skio.imshow(img_A)"
   ]
  },
  {
   "cell_type": "code",
   "execution_count": null,
   "id": "6e58734b",
   "metadata": {},
   "outputs": [],
   "source": [
    "img_B = skio.imread(filepaths[1])\n",
    "skio.imshow(img_B)"
   ]
  },
  {
   "cell_type": "code",
   "execution_count": null,
   "id": "2ee9e6dd",
   "metadata": {},
   "outputs": [],
   "source": [
    "img_C = skio.imread(filepaths[2])\n",
    "skio.imshow(img_C)"
   ]
  },
  {
   "cell_type": "code",
   "execution_count": null,
   "id": "b83ef801",
   "metadata": {},
   "outputs": [],
   "source": [
    "img_D = skio.imread(filepaths[3])\n",
    "skio.imshow(img_D)"
   ]
  },
  {
   "cell_type": "code",
   "execution_count": null,
   "id": "8c0bcc9f",
   "metadata": {},
   "outputs": [],
   "source": [
    "img_E = skio.imread(filepaths[4])\n",
    "skio.imshow(img_E)"
   ]
  },
  {
   "cell_type": "code",
   "execution_count": null,
   "id": "2b32e1d6",
   "metadata": {
    "scrolled": true
   },
   "outputs": [],
   "source": [
    "print(f'Image dimension is {img_A.shape}')\n",
    "print(f'Few pixels: \\n {img_A[1:3, 1:5,:]}')"
   ]
  },
  {
   "cell_type": "code",
   "execution_count": null,
   "id": "debb6141",
   "metadata": {},
   "outputs": [],
   "source": [
    "# It appears the images has an extra coordinate. \n",
    "# However, the extra coordinate contains no real information\n",
    "# Therefore, redefine the matrix\n",
    "img_A = img_A[:, :, :3]\n",
    "img_B = img_B[:, :, :3]\n",
    "img_C = img_C[:, :, :3]\n",
    "img_D = img_D[:, :, :3]\n",
    "img_E = img_E[:, :, :3]"
   ]
  },
  {
   "cell_type": "code",
   "execution_count": null,
   "id": "3fee021d",
   "metadata": {},
   "outputs": [],
   "source": [
    "# Resize all images to 512 by 512\n",
    "def resize_img(filepaths, height=1000, width=1000, save_dir='shot marilyns', do_zip = False):\n",
    "    \"\"\"\n",
    "    To resize the images, the code uses os.makedirs(save_dir, exist_ok = True) and iterates through each filepath in the list. \n",
    "    The image is read using skio.imread(filepath) and then resized to the desired height and width using resize(img_, (height, width)). \n",
    "    The resized image is then saved using plt.imsave(). \n",
    "    If needed, the images can be zipped using the command os.system(\"zip -r shot\\ marilyns.zip shot\\ marilyns\"). \n",
    "    The progress is displayed using tqdm().\n",
    "    \"\"\"\n",
    "    \n",
    "    os.makedirs(save_dir, exist_ok = True)\n",
    "    for i, filepath in enumerate(tqdm(filepaths, desc='Resizing')):\n",
    "        img_ = skio.imread(filepath)\n",
    "        img_ = resize(img_, (height, width))\n",
    "        plt.imsave(os.path.join(save_dir, ''.join(filepath.split('/')[1:])), img_)\n",
    "    if do_zip:\n",
    "        os.system(\"zip -r shot\\ marilyns.zip shot\\ marilyns\")"
   ]
  },
  {
   "cell_type": "code",
   "execution_count": null,
   "id": "eea9e073",
   "metadata": {},
   "outputs": [],
   "source": [
    "img_shape = 512, 512\n",
    "resize_img(filepaths, height=img_shape[0], width=img_shape[1], save_dir='shot marilyns', do_zip=True)"
   ]
  },
  {
   "cell_type": "code",
   "execution_count": null,
   "id": "1cf80ae0",
   "metadata": {},
   "outputs": [],
   "source": [
    "def plot_shot_marilyns(filepaths):\n",
    "    \"\"\"\n",
    "    This function plots the images located in the given filepaths.\n",
    "    It creates a figure with a height of 20 and a width of 25. \n",
    "    The images are arranged in a 2x3 grid. For each filepath, the function reads the image and places it in the appropriate position on the grid. \n",
    "    The final image in the bottom right corner is turned off. \n",
    "    Simply call the function with the appropriate filepaths to display the images.\n",
    "    \"\"\"\n",
    "    fig, ax = plt.subplots(2,3)\n",
    "    fig.set_figheight(20)\n",
    "    fig.set_figwidth(25)\n",
    "    row_, col_ = -1, 0\n",
    "    for i, filepath in enumerate(filepaths):\n",
    "        img_ = skio.imread(filepath)\n",
    "        row_, col_ = (row_ + 1,  0) if (i%3 == 0) else (row_,  col_ + 1)\n",
    "        ax[row_, col_].imshow(img_)\n",
    "    ax[1,2].set_axis_off()"
   ]
  },
  {
   "cell_type": "code",
   "execution_count": null,
   "id": "bf031e11",
   "metadata": {},
   "outputs": [],
   "source": [
    "plot_shot_marilyns(filepaths)"
   ]
  },
  {
   "cell_type": "code",
   "execution_count": null,
   "id": "47a65689",
   "metadata": {},
   "outputs": [],
   "source": [
    "def get_channels(filepaths):\n",
    "    \"\"\"\n",
    "    convert images in filepath to a dataframe containing their RGB channel values.\n",
    "    The number suffix represents the index of the image\n",
    "    \"\"\"\n",
    "    img_list = []\n",
    "    for i, filepath in enumerate(filepaths):\n",
    "        img_ = skio.imread(filepath)[:, :, :3]\n",
    "        img_ = img_.reshape((img_.shape[0] * img_.shape[1], img_.shape[2]))\n",
    "        img_list.append(pd.DataFrame(img_, columns=[item + str(i) for item in ['R', 'G', 'B']]))\n",
    "\n",
    "    return(pd.concat(img_list, axis = 1))"
   ]
  },
  {
   "cell_type": "code",
   "execution_count": null,
   "id": "a8c22e64",
   "metadata": {},
   "outputs": [],
   "source": [
    "# Channels for all the images\n",
    "rgb_df = get_channels(filepaths)    \n",
    "rgb_df"
   ]
  },
  {
   "cell_type": "code",
   "execution_count": null,
   "id": "0f5d304d",
   "metadata": {},
   "outputs": [],
   "source": [
    "def get_pixel_val(file, row_, col_, img_indx=None):\n",
    "    \"\"\"\n",
    "    get the RGB value for a pixel (row, col)\n",
    "    \"\"\"\n",
    "    try:\n",
    "        if isinstance(file, pd.DataFrame) and img_indx != None:\n",
    "            res = file.iloc[row_ * 750 + col_, (img_indx * 3):(img_indx * 3)+3 ]\n",
    "        else:\n",
    "\n",
    "            img_ = skio.imread(file)[:, :, :3]\n",
    "            res = img_[row_, col_, :]\n",
    "        return res\n",
    "    except Exception as e:\n",
    "        print(e)\n",
    "        print('File parameter must be either a dataframe or an image file path')\n",
    "        print('If you provided a dataframe, make sure to provide the image index parameter')"
   ]
  },
  {
   "cell_type": "code",
   "execution_count": null,
   "id": "04274c1d",
   "metadata": {},
   "outputs": [],
   "source": [
    "print(get_pixel_val(file = filepaths[0], row_=2, col_=0))\n",
    "print(get_pixel_val(file = get_channels(filepaths) , row_=2, col_=0, img_indx=0))"
   ]
  },
  {
   "cell_type": "code",
   "execution_count": null,
   "id": "db3eecf4",
   "metadata": {},
   "outputs": [],
   "source": [
    "def axis_mask(val, base):\n",
    "    \"\"\"\n",
    "    Construct sliding kernel for centers based on cube dimension i.e base\n",
    "    \"\"\"\n",
    "    if val == 0:\n",
    "        inf_mask = 0\n",
    "        sup_mask = base\n",
    "    elif val == base:\n",
    "        inf_mask = 0\n",
    "        sup_mask = base\n",
    "    elif val % base == 0:\n",
    "        inf_mask = val - base\n",
    "        sup_mask = val\n",
    "    else:\n",
    "        inf_mask = base * np.floor(val/base) # closest mulitple of \n",
    "        sup_mask = base * np.ceil(val/base)\n",
    "    return((int(inf_mask), int(sup_mask)))\n",
    "\n",
    "\n",
    "def get_bounding_cubes(data, step = 3):\n",
    "    \"\"\"\n",
    "    Get centers using mask\n",
    "    \"\"\"\n",
    "    data_masks = [] \n",
    "    mask_center = []\n",
    "    for pos, row in tqdm(enumerate(data), total=len(data)):\n",
    "        x_mask = axis_mask(val=row[0], base=step )\n",
    "        y_mask = axis_mask(val=row[1], base=step )\n",
    "        z_mask = axis_mask(val=row[2], base=step)\n",
    "        center_x = np.median(range(x_mask[0], x_mask[1] + 1))\n",
    "        center_y = np.median(range(y_mask[0], y_mask[1] + 1))\n",
    "        center_z = np.median(range(z_mask[0], z_mask[1] + 1))\n",
    "        data_masks.append((x_mask,y_mask, z_mask))\n",
    "        mask_center.append((int(center_x), int(center_y), int(center_z)))\n",
    "\n",
    "    return(data, data_masks, mask_center)"
   ]
  },
  {
   "cell_type": "code",
   "execution_count": null,
   "id": "2553321e",
   "metadata": {},
   "outputs": [],
   "source": [
    "def make_center_df(df, cols=[], img_shape=(1000, 1000), cube_width = 3, to_plot=False, return_result=True):\n",
    "    \"\"\"\n",
    "    Return dataframe of image representing the RGB of reduced dimension (i.e using centers)\n",
    "    \"\"\"\n",
    "    if not isinstance(cols, list):\n",
    "        raise Exception(\"cols must be a list of columns from the dataframe\")\n",
    "    if len(cols) < 1:\n",
    "        cols = df.columns\n",
    "        df_ = df.copy\n",
    "    else:\n",
    "        df_ = df.copy()\n",
    "        df_ = df_[cols]\n",
    "\n",
    "    boxes = get_bounding_cubes(df_.values, step = cube_width)\n",
    "\n",
    "    old_img = np.array(boxes[2]).reshape([img_shape[0], img_shape[1], 3])\n",
    "\n",
    "    new_img = np.array(df_.values).reshape([img_shape[0], img_shape[1], 3])\n",
    "    center_df = pd.DataFrame(boxes[2])\n",
    "    center_df.columns = [col + ' center' for col in df_.columns]\n",
    "    res = pd.concat([df_, center_df], axis=1)\n",
    "    if to_plot:\n",
    "        plt.figure(figsize=(8, 6), dpi=80)\n",
    "        fig, (ax1, ax2) = plt.subplots(1,2)\n",
    "        fig.set_figheight(15)\n",
    "        fig.set_figwidth(15)\n",
    "\n",
    "        ax1.imshow(old_img)\n",
    "        ax2.imshow(new_img)\n",
    "    if return_result:\n",
    "        return(res)"
   ]
  },
  {
   "cell_type": "code",
   "execution_count": null,
   "id": "bd719629",
   "metadata": {},
   "outputs": [],
   "source": [
    "# Get the dataframe representing each pixel and their centers using a 10 by 10 cube. \n",
    "# We also plot the original image and the center image\n",
    "center_df_A = make_center_df(df=rgb_df, cols=list(rgb_df.columns[:3]), img_shape=img_shape, cube_width = 10, to_plot=True)"
   ]
  },
  {
   "cell_type": "code",
   "execution_count": null,
   "id": "a4adf953",
   "metadata": {},
   "outputs": [],
   "source": [
    "center_df_B = make_center_df(df=rgb_df, cols=list(rgb_df.columns[3:6]), img_shape=img_shape, cube_width = 10, to_plot=True)"
   ]
  },
  {
   "cell_type": "code",
   "execution_count": null,
   "id": "391fe453",
   "metadata": {},
   "outputs": [],
   "source": [
    "center_df_C = make_center_df(df=rgb_df, cols=list(rgb_df.columns[6:9]), img_shape=img_shape, cube_width = 10, to_plot=True)"
   ]
  },
  {
   "cell_type": "code",
   "execution_count": null,
   "id": "183df22f",
   "metadata": {},
   "outputs": [],
   "source": [
    "center_df_D = make_center_df(df=rgb_df, cols=list(rgb_df.columns[9:12]), img_shape=img_shape, cube_width = 10, to_plot=True)"
   ]
  },
  {
   "cell_type": "code",
   "execution_count": null,
   "id": "f66d6e17",
   "metadata": {},
   "outputs": [],
   "source": [
    "center_df_E = make_center_df(df=rgb_df, cols=list(rgb_df.columns[12:15]), img_shape=img_shape, cube_width = 10, to_plot=True)"
   ]
  },
  {
   "cell_type": "code",
   "execution_count": null,
   "id": "bdf26b21",
   "metadata": {
    "scrolled": false
   },
   "outputs": [],
   "source": [
    "#center_df_A.head()\n",
    "#center_df_B.head()\n",
    "#center_df_C.head()\n",
    "#center_df_D.head()\n",
    "#pd.set_option('display.max_rows', None)\n",
    "#center_df_E.tail(1000)"
   ]
  },
  {
   "cell_type": "code",
   "execution_count": null,
   "id": "f27d7da7",
   "metadata": {},
   "outputs": [],
   "source": [
    "df_ = center_df_E.copy()\n",
    "boxes = get_bounding_cubes(df_.values, step = 10)"
   ]
  },
  {
   "cell_type": "code",
   "execution_count": null,
   "id": "7a361861",
   "metadata": {
    "scrolled": false
   },
   "outputs": [],
   "source": [
    "#boxes"
   ]
  },
  {
   "cell_type": "markdown",
   "id": "bbcc7c11",
   "metadata": {},
   "source": [
    "## Clusters"
   ]
  },
  {
   "cell_type": "code",
   "execution_count": null,
   "id": "c0d75b41",
   "metadata": {},
   "outputs": [],
   "source": [
    "import scipy.cluster.hierarchy as sch\n",
    "from matplotlib.colors import LinearSegmentedColormap\n",
    "from mpl_toolkits.axes_grid1 import make_axes_locatable\n",
    "\n",
    "\n",
    "def rgb2hex(rgb):\n",
    "    \"\"\"\n",
    "    Convert RGB to hexadecimal\n",
    "    \"\"\"\n",
    "    try:\n",
    "        r, g, b = tuple(rgb)\n",
    "        return \"#{:02x}{:02x}{:02x}\".format(int(r),int(g),int(b))\n",
    "    except:\n",
    "        print(f'failed rgb {rgb}')\n",
    "\n",
    "def make_plot_dendogram(df, rgb_cols, cluster_color_col, link):\n",
    "    df_ = df.copy()\n",
    "    clustered_leaf_labels = df_[cluster_color_col].values\n",
    "    unclustered_leaf_labels = list(map(rgb2hex, df_[rgb_cols].values))\n",
    "\n",
    "    plt.clf()\n",
    "    fig = plt.figure(figsize=(25, 10))\n",
    "    dn = sch.dendrogram(link )\n",
    "    ax = plt.gca()\n",
    "\n",
    "    x_points = ax.get_xticks()\n",
    "    y_points = np.zeros(len(x_points))\n",
    "    xlbls = ax.get_xmajorticklabels()\n",
    "    # print(ax.get_position())\n",
    "    color_idx = []\n",
    "    clustered_colors_list = []\n",
    "    unclustered_colors_list = []\n",
    "\n",
    "    # retrieve clustered colors and unclustered colors\n",
    "    for lbl in xlbls:\n",
    "        color_idx.append(int(lbl.get_text()))\n",
    "        clustered_colors_list.append(clustered_leaf_labels[int(lbl.get_text())])\n",
    "        unclustered_colors_list.append(unclustered_leaf_labels[int(lbl.get_text())])\n",
    "    # get axis position [x0,y0,width,height]\n",
    "    ax_bbox = ax.get_position()\n",
    "    cax1 = fig.add_axes([ax_bbox.x0, 0.01, ax_bbox.width, 0.05])\n",
    "\n",
    "    # create custom colorbar\n",
    "    cm1 = LinearSegmentedColormap.from_list('custom_colormap', clustered_colors_list, N=len(clustered_colors_list))\n",
    "    sc1 = plt.scatter(x_points, y_points, c=color_idx, cmap=cm1)\n",
    "    clustered_cb = plt.colorbar(sc1, cax=cax1,  orientation='horizontal')\n",
    "\n",
    "    # set the size of nex axis [x0,y0,width,height]\n",
    "    cax2 = fig.add_axes([ax_bbox.x0, 0.065, ax_bbox.width, 0.05])\n",
    "    cm2 = LinearSegmentedColormap.from_list('custom_colormap', unclustered_colors_list, N=len(unclustered_colors_list))\n",
    "    sc2 = plt.scatter(x_points, y_points, c=color_idx, cmap=cm2)\n",
    "    unclustered_cb = plt.colorbar(sc2, cax=cax2,  orientation='horizontal', pad = 0.3)\n",
    "\n",
    "    # remove ticks and labels\n",
    "    ax.set_xticklabels([])\n",
    "\n",
    "    # clustered_cb.ax.set_ylabel(ylabel='Clustered', rotation=270, loc='center', fontsize=20, labelpad=25)\n",
    "    # unclustered_cb.ax.set_ylabel(ylabel='Unclustered', rotation=270, loc='center', fontsize=20, labelpad=25)\n",
    "    clustered_cb.ax.tick_params(size=0)\n",
    "    unclustered_cb.ax.tick_params(size=0)\n",
    "    clustered_cb.ax.set_xticklabels([])\n",
    "    unclustered_cb.ax.set_xticklabels([])\n",
    "    plt.show()\n",
    "\n",
    "def ColorsSequence3DScatterPerCluster(df):\n",
    "    df_ = df.copy()\n",
    "    clusters = df_['Clusters'].drop_duplicates()\n",
    "    for ii in range(clusters.shape[0]):\n",
    "        colors = df_.query('Clusters == {}'.format(ii))\n",
    "        #color_rep = colors.sample(n=1, random_state = 1).values\n",
    "        #color_rep = color_rep[0][0:3]\n",
    "        color_rep = np.around(np.mean(colors.values[:,0:3], axis=0).astype(float)).astype(int)\n",
    "        df_.loc[df_['Clusters'] == ii, 'ClusterColor'] = rgb2hex(color_rep)\n",
    "\n",
    "    return df_\n",
    "\n",
    "def mapClusters(df, link, n_clusters = 2, height = None):\n",
    "    df_ = df.copy()\n",
    "    if height == None:\n",
    "        clusters = sch.cut_tree(Z=link, n_clusters=n_clusters)\n",
    "    else:\n",
    "        clusters = sch.cut_tree(Z=link, height = height) \n",
    "    df_['Clusters'] = clusters\n",
    "    return df_\n",
    "\n",
    "def cluster_center(df, center_cols, n_cluster, plot_dendogram = True):\n",
    "    df_ = df.copy()\n",
    "    df_center_unique = df_[center_cols].drop_duplicates()\n",
    "    link = sch.linkage(df_center_unique, method='ward')\n",
    "    df_center_unique = ColorsSequence3DScatterPerCluster(mapClusters(df_center_unique, link, n_cluster))\n",
    "    df__ = pd.merge(df_, df_center_unique, how='right', on=center_cols).drop_duplicates(subset=center_cols)\n",
    "    df_ = pd.merge(df_, df_center_unique, how='left', on=center_cols)\n",
    "\n",
    "    if plot_dendogram:\n",
    "        make_plot_dendogram(df=df__, rgb_cols=center_cols, cluster_color_col='ClusterColor', link=link)\n",
    "    return(df_)"
   ]
  },
  {
   "cell_type": "code",
   "execution_count": null,
   "id": "95581d71",
   "metadata": {},
   "outputs": [],
   "source": [
    "# Plot the dendogram of unique centers and their representative colors. \n",
    "# Representative via average of all the RGB in that cluster \n",
    "cluster_center_df_A = cluster_center(df=center_df_A, center_cols=['R0 center', 'G0 center', 'B0 center'], n_cluster=15)"
   ]
  },
  {
   "cell_type": "code",
   "execution_count": null,
   "id": "f00b3a94",
   "metadata": {},
   "outputs": [],
   "source": [
    "cluster_center_df_B = cluster_center(df=center_df_B, center_cols=['R1 center', 'G1 center', 'B1 center'], n_cluster=15)"
   ]
  },
  {
   "cell_type": "code",
   "execution_count": null,
   "id": "8af6a752",
   "metadata": {},
   "outputs": [],
   "source": [
    "cluster_center_df_C = cluster_center(df=center_df_C, center_cols=['R2 center', 'G2 center', 'B2 center'], n_cluster=15)"
   ]
  },
  {
   "cell_type": "code",
   "execution_count": null,
   "id": "7d0e65c2",
   "metadata": {},
   "outputs": [],
   "source": [
    "cluster_center_df_D = cluster_center(df=center_df_D, center_cols=['R3 center', 'G3 center', 'B3 center'], n_cluster=15)"
   ]
  },
  {
   "cell_type": "code",
   "execution_count": null,
   "id": "c0553b6f",
   "metadata": {
    "scrolled": false
   },
   "outputs": [],
   "source": [
    "cluster_center_df_E = cluster_center(df=center_df_E, center_cols=['R4 center', 'G4 center', 'B4 center'], n_cluster=15)"
   ]
  },
  {
   "cell_type": "code",
   "execution_count": null,
   "id": "e1afc0ed",
   "metadata": {},
   "outputs": [],
   "source": [
    "cluster_center_df_A_1 = cluster_center(df=center_df_A, center_cols=['R0 center', 'G0 center', 'B0 center'], n_cluster=1)"
   ]
  },
  {
   "cell_type": "code",
   "execution_count": null,
   "id": "7ae08252",
   "metadata": {},
   "outputs": [],
   "source": [
    "cluster_center_df_B_1 = cluster_center(df=center_df_B, center_cols=['R1 center', 'G1 center', 'B1 center'], n_cluster=1)"
   ]
  },
  {
   "cell_type": "code",
   "execution_count": null,
   "id": "40348e4e",
   "metadata": {},
   "outputs": [],
   "source": [
    "cluster_center_df_C_1 = cluster_center(df=center_df_C, center_cols=['R2 center', 'G2 center', 'B2 center'], n_cluster=1)"
   ]
  },
  {
   "cell_type": "code",
   "execution_count": null,
   "id": "939fd67b",
   "metadata": {},
   "outputs": [],
   "source": [
    "cluster_center_df_D_1 = cluster_center(df=center_df_D, center_cols=['R3 center', 'G3 center', 'B3 center'], n_cluster=1)"
   ]
  },
  {
   "cell_type": "code",
   "execution_count": null,
   "id": "7a5abd04",
   "metadata": {},
   "outputs": [],
   "source": [
    "cluster_center_df_E_1 = cluster_center(df=center_df_E, center_cols=['R4 center', 'G4 center', 'B4 center'], n_cluster=1)"
   ]
  },
  {
   "cell_type": "code",
   "execution_count": null,
   "id": "91dcc332",
   "metadata": {},
   "outputs": [],
   "source": [
    "print(cluster_center_df_A[['R0 center', 'G0 center', 'B0 center']].mean().round().astype(int))\n",
    "print(cluster_center_df_A_1[\"ClusterColor\"].value_counts())"
   ]
  },
  {
   "cell_type": "code",
   "execution_count": null,
   "id": "fc11980e",
   "metadata": {},
   "outputs": [],
   "source": [
    "print(cluster_center_df_B[['R1 center', 'G1 center', 'B1 center']].mean().round().astype(int))\n",
    "print(cluster_center_df_B_1[\"ClusterColor\"].value_counts())"
   ]
  },
  {
   "cell_type": "code",
   "execution_count": null,
   "id": "e83d6ef5",
   "metadata": {},
   "outputs": [],
   "source": [
    "print(cluster_center_df_C[['R2 center', 'G2 center', 'B2 center']].mean().round().astype(int))\n",
    "print(cluster_center_df_C_1[\"ClusterColor\"].value_counts())"
   ]
  },
  {
   "cell_type": "code",
   "execution_count": null,
   "id": "983b8236",
   "metadata": {},
   "outputs": [],
   "source": [
    "print(cluster_center_df_D[['R3 center', 'G3 center', 'B3 center']].mean().round().astype(int))\n",
    "print(cluster_center_df_D_1[\"ClusterColor\"].value_counts())"
   ]
  },
  {
   "cell_type": "code",
   "execution_count": null,
   "id": "e636ec27",
   "metadata": {},
   "outputs": [],
   "source": [
    "print(cluster_center_df_E[['R4 center', 'G4 center', 'B4 center']].mean().round().astype(int))\n",
    "print(cluster_center_df_E_1[\"ClusterColor\"].value_counts())"
   ]
  },
  {
   "cell_type": "markdown",
   "id": "9eb96d9f",
   "metadata": {},
   "source": [
    "## 3D Plot"
   ]
  },
  {
   "cell_type": "code",
   "execution_count": null,
   "id": "7f7ec519",
   "metadata": {},
   "outputs": [],
   "source": [
    "def plot_3D_centers(df, center_cols, color_col, cluster_col):\n",
    "    \"\"\"\n",
    "    Plot the 3D centers\n",
    "    \"\"\"\n",
    "    df_ = df.copy()\n",
    "    x, y, z = center_cols\n",
    "    fig = go.Figure()\n",
    "    fig.add_trace(\n",
    "        go.Scatter3d(\n",
    "            x=df_[x],\n",
    "            y=df_[y],\n",
    "            z=df_[z],\n",
    "            # customdata=np.stack((df_by_continent['country'], df_by_continent['pop']), axis=-1),\n",
    "            customdata= df_[[cluster_col]].values,\n",
    "            mode='markers',\n",
    "            opacity=0.7,\n",
    "            marker={'size': 8, 'color':df_[color_col]},\n",
    "            hovertemplate='<b>x</b>: %{x}<br>' +\n",
    "                          '<b>y</b>: %{y}<br>' +\n",
    "                          '<b>z</b>: %{z}<br>' +\n",
    "                          '<b>cluster</b>: %{customdata[0]}<br>' +\n",
    "                          '<extra></extra>' \n",
    "        )\n",
    "    )\n",
    "\n",
    "    fig.update_layout(margin=dict(l=0, r=0, b=0, t=0))\n",
    "    fig.show()"
   ]
  },
  {
   "cell_type": "code",
   "execution_count": null,
   "id": "4d898c78",
   "metadata": {},
   "outputs": [],
   "source": [
    "avg_RGB = np.matrix([[154, 177, 142, 1],\n",
    "                     [169, 103, 59, 2],\n",
    "                     [191, 133, 100, 3],\n",
    "                     [137, 130, 135, 4],\n",
    "                     [161, 151, 126, 5]])\n",
    "avg_RGB_df = pd.DataFrame(avg_RGB, columns=[\"avg_R\", \"avg_G\", \"avg_B\", \"Clusters\"])"
   ]
  },
  {
   "cell_type": "code",
   "execution_count": null,
   "id": "cd33dc3e",
   "metadata": {},
   "outputs": [],
   "source": [
    "ClusterColor = []\n",
    "for i in range(len(avg_RGB_df)):\n",
    "    hex = rgb2hex(avg_RGB_df[['avg_R', 'avg_G', 'avg_B']].to_numpy()[i])\n",
    "    ClusterColor.append(hex)\n",
    "    \n",
    "avg_RGB_df[\"ClusterColor\"] = ClusterColor"
   ]
  },
  {
   "cell_type": "code",
   "execution_count": null,
   "id": "1098baf1",
   "metadata": {},
   "outputs": [],
   "source": [
    "plot_3D_centers(df=avg_RGB_df, center_cols=['avg_R', 'avg_G', 'avg_B'], color_col='ClusterColor', cluster_col='Clusters')"
   ]
  },
  {
   "cell_type": "code",
   "execution_count": null,
   "id": "f62825f7",
   "metadata": {},
   "outputs": [],
   "source": [
    "avg_RGB_df"
   ]
  },
  {
   "cell_type": "code",
   "execution_count": null,
   "id": "6085165e",
   "metadata": {},
   "outputs": [],
   "source": [
    "plot_3D_centers(df=cluster_center_df_A, center_cols=['R0 center', 'G0 center', 'B0 center'], color_col='ClusterColor', cluster_col='Clusters')"
   ]
  },
  {
   "cell_type": "code",
   "execution_count": null,
   "id": "8ad10221",
   "metadata": {},
   "outputs": [],
   "source": [
    "plot_3D_centers(df=cluster_center_df_B, center_cols=['R1 center', 'G1 center', 'B1 center'], color_col='ClusterColor', cluster_col='Clusters')"
   ]
  },
  {
   "cell_type": "code",
   "execution_count": null,
   "id": "9559916b",
   "metadata": {},
   "outputs": [],
   "source": [
    "plot_3D_centers(df=cluster_center_df_C, center_cols=['R2 center', 'G2 center', 'B2 center'], color_col='ClusterColor', cluster_col='Clusters')"
   ]
  },
  {
   "cell_type": "code",
   "execution_count": null,
   "id": "4fa0650a",
   "metadata": {},
   "outputs": [],
   "source": [
    "plot_3D_centers(df=cluster_center_df_D, center_cols=['R3 center', 'G3 center', 'B3 center'], color_col='ClusterColor', cluster_col='Clusters')"
   ]
  },
  {
   "cell_type": "code",
   "execution_count": null,
   "id": "ed79de4d",
   "metadata": {},
   "outputs": [],
   "source": [
    " plot_3D_centers(df=cluster_center_df_E, center_cols=['R4 center', 'G4 center', 'B4 center'], color_col='ClusterColor', cluster_col='Clusters')"
   ]
  },
  {
   "cell_type": "markdown",
   "id": "da7136bc",
   "metadata": {},
   "source": [
    "## Comparisons"
   ]
  },
  {
   "cell_type": "code",
   "execution_count": null,
   "id": "f995d94f",
   "metadata": {},
   "outputs": [],
   "source": [
    "import matplotlib.patches as matpatches\n",
    "\n",
    "def plotRGB(rgb_value):\n",
    "    if (not isinstance(rgb_value, list)) or (not isinstance(rgb_value, tuple)):\n",
    "        rgb_value = tuple(rgb_value)\n",
    "    rect1 = matpatches.Rectangle((0,0), 10, 10, color=rgb2hex(rgb_value))\n",
    "    fig = plt.figure()\n",
    "    ax = fig.add_subplot(111)\n",
    "    ax.add_patch(rect1)\n",
    "    plt.show()\n",
    "\n",
    "plotRGB(rgb_value=[106,13,173])"
   ]
  },
  {
   "cell_type": "code",
   "execution_count": null,
   "id": "60ea86ee",
   "metadata": {},
   "outputs": [],
   "source": [
    "def changeRGB4Image(df, rgb_cols, center_cols, cluster_color_dict, cluster_col, img_shape):\n",
    "    df_ = df.copy()\n",
    "    img = np.array(df_[rgb_cols]).reshape([img_shape[0], img_shape[1], 3])\n",
    "\n",
    "    new_img = np.copy(img)\n",
    "    channels_arr = df_[center_cols].values\n",
    "\n",
    "    len_cluster_match= {}\n",
    "    for key, val in cluster_color_dict.items():\n",
    "        indx = df_.query(f'{cluster_col} =={key}').index\n",
    "        len_cluster_match[key] = [len(indx), indx]\n",
    "        channels_arr[indx] = val\n",
    "        new_img[:,:,0:3]= channels_arr[:,0:3].reshape([img_shape[0], img_shape[1],3])\n",
    "    DATA = np.array([img, new_img])\n",
    "    fig = px.imshow(DATA, facet_col=0)\n",
    "    \n",
    "    fig.show()\n",
    "    return(len_cluster_match)"
   ]
  },
  {
   "cell_type": "code",
   "execution_count": null,
   "id": "577bd64b",
   "metadata": {},
   "outputs": [],
   "source": [
    "# Redefine function to find the representative cluster color\n",
    "def ColorsSequence3DScatterPerCluster(df):\n",
    "    df_ = df.copy()\n",
    "    clusters = df_['Clusters'].drop_duplicates()\n",
    "    for ii in range(clusters.shape[0]):\n",
    "        colors = df_.query('Clusters == {}'.format(ii))\n",
    "        color_rep = colors.sample(n=1, random_state = 260).values\n",
    "        color_rep = color_rep[0][0:3]\n",
    "        df_.loc[df_['Clusters'] == ii, 'ClusterColor'] = rgb2hex(color_rep)\n",
    "\n",
    "    return df_"
   ]
  },
  {
   "cell_type": "code",
   "execution_count": null,
   "id": "e0c061de",
   "metadata": {
    "scrolled": false
   },
   "outputs": [],
   "source": [
    "cluster_center_df_C_10 = cluster_center(df=center_df_C, center_cols=['R2 center', 'G2 center', 'B2 center'], n_cluster=10)"
   ]
  },
  {
   "cell_type": "code",
   "execution_count": null,
   "id": "cb1932b7",
   "metadata": {},
   "outputs": [],
   "source": [
    "cluster_center_df_C_10['ClusterColor'].unique()"
   ]
  },
  {
   "cell_type": "code",
   "execution_count": null,
   "id": "82201d32",
   "metadata": {
    "scrolled": false
   },
   "outputs": [],
   "source": [
    "cluster_center_df_C_10['ClusterColor'].value_counts()"
   ]
  },
  {
   "cell_type": "code",
   "execution_count": null,
   "id": "3655be73",
   "metadata": {
    "scrolled": false
   },
   "outputs": [],
   "source": [
    "for cluster_indx in range(10):\n",
    "    clusterIndColorPairs = { cluster_indx:[106,13,173]} #color the point that matches the cluster with purple\n",
    "    len_cluster_match = changeRGB4Image(df=cluster_center_df_C_10, rgb_cols=['R2', 'G2', 'B2'], \n",
    "                                        center_cols=['R2 center', 'G2 center', 'B2 center'],\n",
    "                                        cluster_color_dict=clusterIndColorPairs, cluster_col='Clusters', img_shape=img_shape)"
   ]
  },
  {
   "cell_type": "code",
   "execution_count": null,
   "id": "2a4f081e",
   "metadata": {},
   "outputs": [],
   "source": [
    "cluster_center_df_C_10.loc[(cluster_center_df_C_10[\"Clusters\"] == 1)].head() #hair #cdaf37"
   ]
  },
  {
   "cell_type": "code",
   "execution_count": null,
   "id": "6e168149",
   "metadata": {
    "scrolled": false
   },
   "outputs": [],
   "source": [
    "cluster_center_df_C_10.loc[(cluster_center_df_C_10[\"Clusters\"] == 9)] #lip #b9372d"
   ]
  },
  {
   "cell_type": "markdown",
   "id": "ac44809f",
   "metadata": {},
   "source": [
    "### Hair"
   ]
  },
  {
   "cell_type": "code",
   "execution_count": null,
   "id": "23c2a95d",
   "metadata": {
    "scrolled": true
   },
   "outputs": [],
   "source": [
    "cluster_center_df_C_10.loc[(cluster_center_df_C_10[\"Clusters\"] == 1)].describe()"
   ]
  },
  {
   "cell_type": "code",
   "execution_count": null,
   "id": "2b9630df",
   "metadata": {},
   "outputs": [],
   "source": [
    "cluster_center_df_C[\"Class\"] = 999\n",
    "cluster_center_df_C.loc[((cluster_center_df_C[\"R2 center\"] >= 175) & (cluster_center_df_C[\"R2 center\"] <= 235)) & \n",
    "                        ((cluster_center_df_C[\"G2 center\"] >= 145) & (cluster_center_df_C[\"G2 center\"] <= 195)) & \n",
    "                        ((cluster_center_df_C[\"B2 center\"] >= 55) & (cluster_center_df_C[\"B2 center\"] <= 135)), \"Class\"] = 1\n",
    "cluster_center_df_C[\"Class\"].value_counts()"
   ]
  },
  {
   "cell_type": "code",
   "execution_count": null,
   "id": "bbf5c2a7",
   "metadata": {},
   "outputs": [],
   "source": [
    "clusterIndColorPairs = {1:[106,13,173]} #color the point that matches the cluster with purple\n",
    "len_cluster_match = changeRGB4Image(df=cluster_center_df_C, rgb_cols=['R2', 'G2', 'B2'], \n",
    "                                    center_cols=['R2 center', 'G2 center', 'B2 center'],\n",
    "                                    cluster_color_dict=clusterIndColorPairs, \n",
    "                                    cluster_col='Class', img_shape=img_shape)"
   ]
  },
  {
   "cell_type": "code",
   "execution_count": null,
   "id": "8592a2fc",
   "metadata": {},
   "outputs": [],
   "source": [
    "cluster_center_df_A[\"Class\"] = 999\n",
    "cluster_center_df_A.loc[((cluster_center_df_A[\"R0 center\"] >= 175) & (cluster_center_df_A[\"R0 center\"] <= 235)) & \n",
    "                        ((cluster_center_df_A[\"G0 center\"] >= 145) & (cluster_center_df_A[\"G0 center\"] <= 195)) & \n",
    "                        ((cluster_center_df_A[\"B0 center\"] >= 55) & (cluster_center_df_A[\"B0 center\"] <= 135)), \"Class\"] = 1\n",
    "cluster_center_df_A[\"Class\"].value_counts()"
   ]
  },
  {
   "cell_type": "code",
   "execution_count": null,
   "id": "1a96c659",
   "metadata": {},
   "outputs": [],
   "source": [
    "clusterIndColorPairs = {1:[106,13,173]} #color the point that matches the cluster with purple\n",
    "len_cluster_match = changeRGB4Image(df=cluster_center_df_A, rgb_cols=['R0', 'G0', 'B0'], \n",
    "                                    center_cols=['R0 center', 'G0 center', 'B0 center'],\n",
    "                                    cluster_color_dict=clusterIndColorPairs, \n",
    "                                    cluster_col='Class', img_shape=img_shape)"
   ]
  },
  {
   "cell_type": "code",
   "execution_count": null,
   "id": "c7704098",
   "metadata": {},
   "outputs": [],
   "source": [
    "cluster_center_df_B[\"Class\"] = 999\n",
    "cluster_center_df_B.loc[((cluster_center_df_B[\"R1 center\"] >= 175) & (cluster_center_df_B[\"R1 center\"] <= 235)) & \n",
    "                        ((cluster_center_df_B[\"G1 center\"] >= 145) & (cluster_center_df_B[\"G1 center\"] <= 195)) & \n",
    "                        ((cluster_center_df_B[\"B1 center\"] >= 55) & (cluster_center_df_B[\"B1 center\"] <= 135)), \"Class\"] = 1\n",
    "cluster_center_df_B[\"Class\"].value_counts()"
   ]
  },
  {
   "cell_type": "code",
   "execution_count": null,
   "id": "fde7087a",
   "metadata": {},
   "outputs": [],
   "source": [
    "clusterIndColorPairs = {1:[106,13,173]} #color the point that matches the cluster with purple\n",
    "len_cluster_match = changeRGB4Image(df=cluster_center_df_B, rgb_cols=['R1', 'G1', 'B1'], \n",
    "                                    center_cols=['R1 center', 'G1 center', 'B1 center'],\n",
    "                                    cluster_color_dict=clusterIndColorPairs, \n",
    "                                    cluster_col='Class', img_shape=img_shape)"
   ]
  },
  {
   "cell_type": "code",
   "execution_count": null,
   "id": "301db7ad",
   "metadata": {},
   "outputs": [],
   "source": [
    "cluster_center_df_D[\"Class\"] = 999\n",
    "cluster_center_df_D.loc[((cluster_center_df_D[\"R3 center\"] >= 175) & (cluster_center_df_D[\"R3 center\"] <= 235)) & \n",
    "                        ((cluster_center_df_D[\"G3 center\"] >= 145) & (cluster_center_df_D[\"G3 center\"] <= 195)) & \n",
    "                        ((cluster_center_df_D[\"B3 center\"] >= 55) & (cluster_center_df_D[\"B3 center\"] <= 135)) &\n",
    "                        (cluster_center_df_D[\"ClusterColor\"] != \"#c07d54\"), \"Class\"] = 1\n",
    "cluster_center_df_D[\"Class\"].value_counts()"
   ]
  },
  {
   "cell_type": "code",
   "execution_count": null,
   "id": "e44126e0",
   "metadata": {},
   "outputs": [],
   "source": [
    "clusterIndColorPairs = {1:[106,13,173]} #color the point that matches the cluster with purple\n",
    "len_cluster_match = changeRGB4Image(df=cluster_center_df_D, rgb_cols=['R3', 'G3', 'B3'], \n",
    "                                    center_cols=['R3 center', 'G3 center', 'B3 center'],\n",
    "                                    cluster_color_dict=clusterIndColorPairs, \n",
    "                                    cluster_col='Class', img_shape=img_shape)"
   ]
  },
  {
   "cell_type": "code",
   "execution_count": null,
   "id": "263cd0ed",
   "metadata": {},
   "outputs": [],
   "source": [
    "cluster_center_df_E[\"Class\"] = 999\n",
    "cluster_center_df_E.loc[((cluster_center_df_E[\"R4 center\"] >= 175) & (cluster_center_df_E[\"R4 center\"] <= 235)) & \n",
    "                        ((cluster_center_df_E[\"G4 center\"] >= 145) & (cluster_center_df_E[\"G4 center\"] <= 195)) & \n",
    "                        ((cluster_center_df_E[\"B4 center\"] >= 55) & (cluster_center_df_E[\"B4 center\"] <= 135)), \"Class\"] = 1\n",
    "cluster_center_df_E[\"Class\"].value_counts()"
   ]
  },
  {
   "cell_type": "code",
   "execution_count": null,
   "id": "efbd1638",
   "metadata": {
    "scrolled": false
   },
   "outputs": [],
   "source": [
    "clusterIndColorPairs = {1:[106,13,173]} #color the point that matches the cluster with purple\n",
    "len_cluster_match = changeRGB4Image(df=cluster_center_df_E, rgb_cols=['R4', 'G4', 'B4'], \n",
    "                                    center_cols=['R4 center', 'G4 center', 'B4 center'],\n",
    "                                    cluster_color_dict=clusterIndColorPairs, \n",
    "                                    cluster_col='Class', img_shape=img_shape)"
   ]
  },
  {
   "cell_type": "code",
   "execution_count": null,
   "id": "1ed3d5ff",
   "metadata": {},
   "outputs": [],
   "source": [
    "# 3D plot for C, A, D"
   ]
  },
  {
   "cell_type": "code",
   "execution_count": null,
   "id": "463bed17",
   "metadata": {},
   "outputs": [],
   "source": [
    "hair_df_C = cluster_center_df_C_10.loc[(cluster_center_df_C_10[\"Clusters\"] == 1)] #yellow"
   ]
  },
  {
   "cell_type": "code",
   "execution_count": null,
   "id": "affdec76",
   "metadata": {},
   "outputs": [],
   "source": [
    "hair_df_C.head() ##cdaf37"
   ]
  },
  {
   "cell_type": "code",
   "execution_count": null,
   "id": "3592004b",
   "metadata": {},
   "outputs": [],
   "source": [
    "cluster_center_df_A_10 = cluster_center(df=center_df_A, center_cols=['R0 center', 'G0 center', 'B0 center'], n_cluster=10)"
   ]
  },
  {
   "cell_type": "code",
   "execution_count": null,
   "id": "9d228f58",
   "metadata": {
    "scrolled": false
   },
   "outputs": [],
   "source": [
    "cluster_center_df_D_10 = cluster_center(df=center_df_D, center_cols=['R3 center', 'G3 center', 'B3 center'], n_cluster=13)"
   ]
  },
  {
   "cell_type": "code",
   "execution_count": null,
   "id": "61492ebc",
   "metadata": {},
   "outputs": [],
   "source": [
    "cluster_center_df_A_10['ClusterColor'].unique() ##f5e119"
   ]
  },
  {
   "cell_type": "code",
   "execution_count": null,
   "id": "0f985991",
   "metadata": {},
   "outputs": [],
   "source": [
    "cluster_center_df_D_10['ClusterColor'].unique() ##e1b969"
   ]
  },
  {
   "cell_type": "code",
   "execution_count": null,
   "id": "3917b6de",
   "metadata": {},
   "outputs": [],
   "source": [
    "hair_df_A = cluster_center_df_A_10.loc[(cluster_center_df_A_10[\"ClusterColor\"]==\"#f5e119\")]\n",
    "hair_df_D = cluster_center_df_D_10.loc[(cluster_center_df_D_10[\"ClusterColor\"]==\"#e1b969\")]"
   ]
  },
  {
   "cell_type": "code",
   "execution_count": null,
   "id": "0dbeb858",
   "metadata": {},
   "outputs": [],
   "source": [
    "hair_df_C.head(1)"
   ]
  },
  {
   "cell_type": "code",
   "execution_count": null,
   "id": "3e70004d",
   "metadata": {},
   "outputs": [],
   "source": [
    "hair_df_A.head(1)"
   ]
  },
  {
   "cell_type": "code",
   "execution_count": null,
   "id": "22b634ab",
   "metadata": {},
   "outputs": [],
   "source": [
    "hair_df_D.head(1)"
   ]
  },
  {
   "cell_type": "code",
   "execution_count": null,
   "id": "a14dae9c",
   "metadata": {},
   "outputs": [],
   "source": [
    "hair_df_C.rename(columns={\"R2 center\":\"R center\", \"G2 center\":\"G center\", \"B2 center\":\"B center\"}, inplace=True)\n",
    "hair_df_A.rename(columns={\"R0 center\":\"R center\", \"G0 center\":\"G center\", \"B0 center\":\"B center\"}, inplace=True)\n",
    "hair_df_D.rename(columns={\"R3 center\":\"R center\", \"G3 center\":\"G center\", \"B3 center\":\"B center\"}, inplace=True)\n",
    "\n",
    "hair_df_C.drop([\"R2\", \"G2\", \"B2\"], axis=1, inplace=True)\n",
    "hair_df_A.drop([\"R0\", \"G0\", \"B0\"], axis=1, inplace=True)\n",
    "hair_df_D.drop([\"R3\", \"G3\", \"B3\"], axis=1, inplace=True)"
   ]
  },
  {
   "cell_type": "code",
   "execution_count": null,
   "id": "a947253c",
   "metadata": {},
   "outputs": [],
   "source": [
    "hair_df_CA = pd.concat([hair_df_C, hair_df_A], axis=0, ignore_index=True)\n",
    "hair_df_CD = pd.concat([hair_df_C, hair_df_D], axis=0, ignore_index=True)\n",
    "hair_df_CAD = pd.concat([hair_df_CA, hair_df_D], axis=0, ignore_index=True)"
   ]
  },
  {
   "cell_type": "code",
   "execution_count": null,
   "id": "5c7c3a8c",
   "metadata": {},
   "outputs": [],
   "source": [
    "hair_df_CAD[\"Clusters\"].unique()"
   ]
  },
  {
   "cell_type": "code",
   "execution_count": null,
   "id": "bcf11c7c",
   "metadata": {},
   "outputs": [],
   "source": [
    " plot_3D_centers(df=hair_df_CA, center_cols=['R center', 'G center', 'B center'], color_col='ClusterColor', cluster_col='Clusters')"
   ]
  },
  {
   "cell_type": "code",
   "execution_count": null,
   "id": "df16d7a1",
   "metadata": {},
   "outputs": [],
   "source": [
    "plot_3D_centers(df=hair_df_CD, center_cols=['R center', 'G center', 'B center'], color_col='ClusterColor', cluster_col='Clusters')"
   ]
  },
  {
   "cell_type": "markdown",
   "id": "60449003",
   "metadata": {},
   "source": [
    "### Lip"
   ]
  },
  {
   "cell_type": "code",
   "execution_count": null,
   "id": "0be6ef3c",
   "metadata": {
    "scrolled": true
   },
   "outputs": [],
   "source": [
    "cluster_center_df_C_10.loc[(cluster_center_df_C_10[\"Clusters\"] == 9)].describe()"
   ]
  },
  {
   "cell_type": "code",
   "execution_count": null,
   "id": "f21eeecb",
   "metadata": {},
   "outputs": [],
   "source": [
    "cluster_center_df_C[\"Class2\"] = 999\n",
    "cluster_center_df_C.loc[((cluster_center_df_C[\"R2 center\"] >= 135) & (cluster_center_df_C[\"R2 center\"] <= 195)) & \n",
    "                        ((cluster_center_df_C[\"G2 center\"] >= 35) & (cluster_center_df_C[\"G2 center\"] <= 85)) & \n",
    "                        ((cluster_center_df_C[\"B2 center\"] >= 25) & (cluster_center_df_C[\"B2 center\"] <= 85)), \"Class2\"] = 1\n",
    "cluster_center_df_C[\"Class2\"].value_counts()"
   ]
  },
  {
   "cell_type": "code",
   "execution_count": null,
   "id": "7603b6d5",
   "metadata": {},
   "outputs": [],
   "source": [
    "clusterIndColorPairs = {1:[106,13,173]} #color the point that matches the cluster with purple\n",
    "len_cluster_match = changeRGB4Image(df=cluster_center_df_C, rgb_cols=['R2', 'G2', 'B2'], \n",
    "                                    center_cols=['R2 center', 'G2 center', 'B2 center'],\n",
    "                                    cluster_color_dict=clusterIndColorPairs, \n",
    "                                    cluster_col='Class2', img_shape=img_shape)"
   ]
  },
  {
   "cell_type": "code",
   "execution_count": null,
   "id": "766bb5ef",
   "metadata": {},
   "outputs": [],
   "source": [
    "cluster_center_df_A[\"Class2\"] = 999\n",
    "cluster_center_df_A.loc[((cluster_center_df_A[\"R0 center\"] >= 135) & (cluster_center_df_A[\"R0 center\"] <= 195)) & \n",
    "                        ((cluster_center_df_A[\"G0 center\"] >= 35) & (cluster_center_df_A[\"G0 center\"] <= 85)) & \n",
    "                        ((cluster_center_df_A[\"B0 center\"] >= 25) & (cluster_center_df_A[\"B0 center\"] <= 85)), \"Class2\"] = 1\n",
    "cluster_center_df_A[\"Class2\"].value_counts()"
   ]
  },
  {
   "cell_type": "code",
   "execution_count": null,
   "id": "4f7b7d77",
   "metadata": {},
   "outputs": [],
   "source": [
    "cluster_center_df_B[\"Class2\"] = 999\n",
    "cluster_center_df_B.loc[((cluster_center_df_B[\"R1 center\"] >= 135) & (cluster_center_df_B[\"R1 center\"] <= 195)) & \n",
    "                        ((cluster_center_df_B[\"G1 center\"] >= 35) & (cluster_center_df_B[\"G1 center\"] <= 85)) & \n",
    "                        ((cluster_center_df_B[\"B1 center\"] >= 25) & (cluster_center_df_B[\"B1 center\"] <= 85)), \"Class2\"] = 1\n",
    "cluster_center_df_B[\"Class2\"].value_counts()"
   ]
  },
  {
   "cell_type": "code",
   "execution_count": null,
   "id": "6e161f52",
   "metadata": {},
   "outputs": [],
   "source": [
    "cluster_center_df_D[\"Class2\"] = 999\n",
    "cluster_center_df_D.loc[((cluster_center_df_D[\"R3 center\"] >= 135) & (cluster_center_df_D[\"R3 center\"] <= 195)) & \n",
    "                        ((cluster_center_df_D[\"G3 center\"] >= 35) & (cluster_center_df_D[\"G3 center\"] <= 85)) & \n",
    "                        ((cluster_center_df_D[\"B3 center\"] >= 25) & (cluster_center_df_D[\"B3 center\"] <= 85)), \"Class2\"] = 1\n",
    "cluster_center_df_D[\"Class2\"].value_counts()"
   ]
  },
  {
   "cell_type": "code",
   "execution_count": null,
   "id": "957728f3",
   "metadata": {},
   "outputs": [],
   "source": [
    "cluster_center_df_E[\"Class2\"] = 999\n",
    "cluster_center_df_E.loc[((cluster_center_df_E[\"R4 center\"] >= 135) & (cluster_center_df_E[\"R4 center\"] <= 195)) & \n",
    "                        ((cluster_center_df_E[\"G4 center\"] >= 35) & (cluster_center_df_E[\"G4 center\"] <= 85)) & \n",
    "                        ((cluster_center_df_E[\"B4 center\"] >= 25) & (cluster_center_df_E[\"B4 center\"] <= 85)), \"Class2\"] = 1\n",
    "cluster_center_df_E[\"Class2\"].value_counts()"
   ]
  },
  {
   "cell_type": "code",
   "execution_count": null,
   "id": "88e210e5",
   "metadata": {},
   "outputs": [],
   "source": [
    "clusterIndColorPairs = {1:[106,13,173]} #color the point that matches the cluster with purple\n",
    "len_cluster_match = changeRGB4Image(df=cluster_center_df_A, rgb_cols=['R0', 'G0', 'B0'], \n",
    "                                    center_cols=['R0 center', 'G0 center', 'B0 center'],\n",
    "                                    cluster_color_dict=clusterIndColorPairs, \n",
    "                                    cluster_col='Class2', img_shape=img_shape)"
   ]
  },
  {
   "cell_type": "code",
   "execution_count": null,
   "id": "a5cee96b",
   "metadata": {},
   "outputs": [],
   "source": [
    "clusterIndColorPairs = {1:[106,13,173]} #color the point that matches the cluster with purple\n",
    "len_cluster_match = changeRGB4Image(df=cluster_center_df_B, rgb_cols=['R1', 'G1', 'B1'], \n",
    "                                    center_cols=['R1 center', 'G1 center', 'B1 center'],\n",
    "                                    cluster_color_dict=clusterIndColorPairs, \n",
    "                                    cluster_col='Class2', img_shape=img_shape)"
   ]
  },
  {
   "cell_type": "code",
   "execution_count": null,
   "id": "ab5f6fe4",
   "metadata": {},
   "outputs": [],
   "source": [
    "clusterIndColorPairs = {1:[106,13,173]} #color the point that matches the cluster with purple\n",
    "len_cluster_match = changeRGB4Image(df=cluster_center_df_D, rgb_cols=['R3', 'G3', 'B3'], \n",
    "                                    center_cols=['R3 center', 'G3 center', 'B3 center'],\n",
    "                                    cluster_color_dict=clusterIndColorPairs, \n",
    "                                    cluster_col='Class2', img_shape=img_shape)"
   ]
  },
  {
   "cell_type": "code",
   "execution_count": null,
   "id": "6afc9e08",
   "metadata": {},
   "outputs": [],
   "source": [
    "clusterIndColorPairs = {1:[106,13,173]} #color the point that matches the cluster with purple\n",
    "len_cluster_match = changeRGB4Image(df=cluster_center_df_E, rgb_cols=['R4', 'G4', 'B4'], \n",
    "                                    center_cols=['R4 center', 'G4 center', 'B4 center'],\n",
    "                                    cluster_color_dict=clusterIndColorPairs, \n",
    "                                    cluster_col='Class2', img_shape=img_shape)"
   ]
  },
  {
   "cell_type": "code",
   "execution_count": null,
   "id": "e95264a5",
   "metadata": {},
   "outputs": [],
   "source": [
    "color = []\n",
    "for i in range(len(cluster_center_df_C)):\n",
    "    hex = rgb2hex(cluster_center_df_C[['R2 center', 'G2 center', 'B2 center']].to_numpy()[i])\n",
    "    color.append(hex)"
   ]
  },
  {
   "cell_type": "code",
   "execution_count": null,
   "id": "6ca34d0c",
   "metadata": {},
   "outputs": [],
   "source": [
    "cluster_center_df_C[\"Colors\"] = color"
   ]
  },
  {
   "cell_type": "code",
   "execution_count": null,
   "id": "653b923f",
   "metadata": {},
   "outputs": [],
   "source": [
    "cluster_center_df_C[\"Colors\"].value_counts()"
   ]
  },
  {
   "cell_type": "code",
   "execution_count": null,
   "id": "1c6ff680",
   "metadata": {},
   "outputs": [],
   "source": [
    "cluster_center_df_C[\"Class\"] = 999\n",
    "cluster_center_df_C.loc[(cluster_center_df_C[\"Colors\"] == \"#cdaf41\"), \"Class\"] = 1"
   ]
  },
  {
   "cell_type": "code",
   "execution_count": null,
   "id": "35e90ee7",
   "metadata": {},
   "outputs": [],
   "source": [
    "cluster_center_df_C[\"Class\"].value_counts()"
   ]
  },
  {
   "cell_type": "code",
   "execution_count": null,
   "id": "289d6314",
   "metadata": {},
   "outputs": [],
   "source": []
  },
  {
   "cell_type": "code",
   "execution_count": null,
   "id": "5d4cbb18",
   "metadata": {},
   "outputs": [],
   "source": []
  },
  {
   "cell_type": "code",
   "execution_count": null,
   "id": "feba4159",
   "metadata": {},
   "outputs": [],
   "source": []
  }
 ],
 "metadata": {
  "kernelspec": {
   "display_name": "Python 3 (ipykernel)",
   "language": "python",
   "name": "python3"
  },
  "language_info": {
   "codemirror_mode": {
    "name": "ipython",
    "version": 3
   },
   "file_extension": ".py",
   "mimetype": "text/x-python",
   "name": "python",
   "nbconvert_exporter": "python",
   "pygments_lexer": "ipython3",
   "version": "3.11.5"
  },
  "toc": {
   "base_numbering": 1,
   "nav_menu": {},
   "number_sections": true,
   "sideBar": true,
   "skip_h1_title": false,
   "title_cell": "Table of Contents",
   "title_sidebar": "Contents",
   "toc_cell": false,
   "toc_position": {},
   "toc_section_display": true,
   "toc_window_display": false
  }
 },
 "nbformat": 4,
 "nbformat_minor": 5
}
